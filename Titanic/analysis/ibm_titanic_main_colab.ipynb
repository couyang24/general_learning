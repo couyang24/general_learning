{
  "nbformat": 4,
  "nbformat_minor": 0,
  "metadata": {
    "jupytext": {
      "cell_metadata_filter": "-all",
      "main_language": "python",
      "notebook_metadata_filter": "-all"
    },
    "kernelspec": {
      "display_name": "Python 3.6",
      "language": "python",
      "name": "python3"
    },
    "language_info": {
      "codemirror_mode": {
        "name": "ipython",
        "version": 3
      },
      "file_extension": ".py",
      "mimetype": "text/x-python",
      "name": "python",
      "nbconvert_exporter": "python",
      "pygments_lexer": "ipython3",
      "version": "3.6.9"
    },
    "colab": {
      "name": "ibm_titanic_main.ipynb",
      "provenance": [],
      "include_colab_link": true
    }
  },
  "cells": [
    {
      "cell_type": "markdown",
      "metadata": {
        "id": "view-in-github",
        "colab_type": "text"
      },
      "source": [
        "<a href=\"https://colab.research.google.com/github/couyang24/general_learning-tiffany/blob/master/Titanic/analysis/ibm_titanic_main_colab.ipynb\" target=\"_parent\"><img src=\"https://colab.research.google.com/assets/colab-badge.svg\" alt=\"Open In Colab\"/></a>"
      ]
    },
    {
      "cell_type": "code",
      "metadata": {
        "id": "hpSo45Ysr4w7",
        "colab_type": "code",
        "colab": {}
      },
      "source": [
        "# The code was removed by Watson Studio for sharing."
      ],
      "execution_count": null,
      "outputs": []
    },
    {
      "cell_type": "code",
      "metadata": {
        "id": "FvNtidc9r4xP",
        "colab_type": "code",
        "colab": {},
        "outputId": "5cc18943-ed36-4d03-b6fd-f3a2cf13e88d"
      },
      "source": [
        "! pip install featuretools"
      ],
      "execution_count": null,
      "outputs": [
        {
          "output_type": "stream",
          "text": [
            "Collecting featuretools\n",
            "\u001b[?25l  Downloading https://files.pythonhosted.org/packages/65/8b/62e93852d771cd1f5bd91635327d9933346dc24a34b6f87cf4ccb01d0f6b/featuretools-0.17.0-py3-none-any.whl (269kB)\n",
            "\u001b[K     |████████████████████████████████| 276kB 9.2MB/s eta 0:00:01\n",
            "\u001b[?25hRequirement already satisfied: scipy>=0.13.3 in /opt/conda/envs/Python36/lib/python3.6/site-packages (from featuretools) (1.2.0)\n",
            "Requirement already satisfied: pyyaml>=3.12 in /opt/conda/envs/Python36/lib/python3.6/site-packages (from featuretools) (3.13)\n",
            "Requirement already satisfied: pandas>=0.24.1 in /opt/conda/envs/Python36/lib/python3.6/site-packages (from featuretools) (0.24.1)\n",
            "Requirement already satisfied: cloudpickle>=0.4.0 in /opt/conda/envs/Python36/lib/python3.6/site-packages (from featuretools) (0.7.0)\n",
            "Requirement already satisfied: psutil>=5.4.8 in /opt/conda/envs/Python36/lib/python3.6/site-packages (from featuretools) (5.5.0)\n",
            "Collecting tqdm>=4.32.0 (from featuretools)\n",
            "\u001b[?25l  Downloading https://files.pythonhosted.org/packages/af/88/7b0ea5fa8192d1733dea459a9e3059afc87819cb4072c43263f2ec7ab768/tqdm-4.48.0-py2.py3-none-any.whl (67kB)\n",
            "\u001b[K     |████████████████████████████████| 71kB 20.5MB/s eta 0:00:01\n",
            "\u001b[?25hRequirement already satisfied: numpy>=1.13.3 in /opt/conda/envs/Python36/lib/python3.6/site-packages (from featuretools) (1.15.4)\n",
            "Requirement already satisfied: distributed>=1.24.2 in /opt/conda/envs/Python36/lib/python3.6/site-packages (from featuretools) (1.25.3)\n",
            "Requirement already satisfied: click>=7.0.0 in /opt/conda/envs/Python36/lib/python3.6/site-packages (from featuretools) (7.0)\n",
            "Requirement already satisfied: dask[dataframe]>=1.1.0 in /opt/conda/envs/Python36/lib/python3.6/site-packages (from featuretools) (1.1.1)\n",
            "Requirement already satisfied: pytz>=2011k in /opt/conda/envs/Python36/lib/python3.6/site-packages (from pandas>=0.24.1->featuretools) (2018.9)\n",
            "Requirement already satisfied: python-dateutil>=2.5.0 in /opt/conda/envs/Python36/lib/python3.6/site-packages (from pandas>=0.24.1->featuretools) (2.7.5)\n",
            "Requirement already satisfied: msgpack in /opt/conda/envs/Python36/lib/python3.6/site-packages (from distributed>=1.24.2->featuretools) (0.6.1)\n",
            "Requirement already satisfied: six in /opt/conda/envs/Python36/lib/python3.6/site-packages (from distributed>=1.24.2->featuretools) (1.12.0)\n",
            "Requirement already satisfied: sortedcontainers!=2.0.0,!=2.0.1 in /opt/conda/envs/Python36/lib/python3.6/site-packages (from distributed>=1.24.2->featuretools) (2.1.0)\n",
            "Requirement already satisfied: tblib in /opt/conda/envs/Python36/lib/python3.6/site-packages (from distributed>=1.24.2->featuretools) (1.3.2)\n",
            "Requirement already satisfied: toolz>=0.7.4 in /opt/conda/envs/Python36/lib/python3.6/site-packages (from distributed>=1.24.2->featuretools) (0.9.0)\n",
            "Requirement already satisfied: tornado>=4.5.1 in /opt/conda/envs/Python36/lib/python3.6/site-packages (from distributed>=1.24.2->featuretools) (5.1.1)\n",
            "Requirement already satisfied: zict>=0.1.3 in /opt/conda/envs/Python36/lib/python3.6/site-packages (from distributed>=1.24.2->featuretools) (0.1.3)\n",
            "Requirement already satisfied: partd>=0.3.8; extra == \"dataframe\" in /opt/conda/envs/Python36/lib/python3.6/site-packages (from dask[dataframe]>=1.1.0->featuretools) (0.3.9)\n",
            "Requirement already satisfied: heapdict in /opt/conda/envs/Python36/lib/python3.6/site-packages (from zict>=0.1.3->distributed>=1.24.2->featuretools) (1.0.0)\n",
            "Requirement already satisfied: locket in /opt/conda/envs/Python36/lib/python3.6/site-packages (from partd>=0.3.8; extra == \"dataframe\"->dask[dataframe]>=1.1.0->featuretools) (0.2.0)\n",
            "Installing collected packages: tqdm, featuretools\n",
            "  Found existing installation: tqdm 4.31.1\n",
            "    Uninstalling tqdm-4.31.1:\n",
            "      Successfully uninstalled tqdm-4.31.1\n",
            "Successfully installed featuretools-0.17.0 tqdm-4.48.0\n"
          ],
          "name": "stdout"
        }
      ]
    },
    {
      "cell_type": "code",
      "metadata": {
        "id": "zs1tyyPpr4xl",
        "colab_type": "code",
        "colab": {}
      },
      "source": [
        "# Load Package\n",
        "# import numpy as np\n",
        "import pandas as pd\n",
        "import seaborn as sns"
      ],
      "execution_count": null,
      "outputs": []
    },
    {
      "cell_type": "code",
      "metadata": {
        "id": "p9fGBc5Fr4yH",
        "colab_type": "code",
        "colab": {}
      },
      "source": [
        "import featuretools as ft"
      ],
      "execution_count": null,
      "outputs": []
    },
    {
      "cell_type": "code",
      "metadata": {
        "id": "aMaa7cbIr4ym",
        "colab_type": "code",
        "colab": {}
      },
      "source": [
        "from sklearn.base import BaseEstimator, TransformerMixin\n",
        "from sklearn.impute import SimpleImputer, MissingIndicator\n",
        "from sklearn.pipeline import Pipeline, FeatureUnion\n",
        "from sklearn.preprocessing import (\n",
        "    OneHotEncoder,\n",
        "    StandardScaler,\n",
        "    LabelEncoder,\n",
        "    OrdinalEncoder,\n",
        ")\n",
        "from sklearn.compose import ColumnTransformer\n",
        "from sklearn.model_selection import cross_val_score, RandomizedSearchCV"
      ],
      "execution_count": null,
      "outputs": []
    },
    {
      "cell_type": "code",
      "metadata": {
        "id": "KE-TsNxxr4zD",
        "colab_type": "code",
        "colab": {}
      },
      "source": [
        "# Load data\n",
        "train_df = project.get_file(\"train.csv\")\n",
        "test_df = project.get_file(\"test.csv\")\n",
        "train_df= pd.read_csv(train_df)\n",
        "test_df = pd.read_csv(test_df)"
      ],
      "execution_count": null,
      "outputs": []
    },
    {
      "cell_type": "code",
      "metadata": {
        "id": "OFw7uEO0r4zj",
        "colab_type": "code",
        "colab": {}
      },
      "source": [
        "# Save data\n",
        "target = train_df[[\"Survived\"]]\n",
        "submission = test_df[[\"PassengerId\"]]"
      ],
      "execution_count": null,
      "outputs": []
    },
    {
      "cell_type": "code",
      "metadata": {
        "id": "P1RTgzk2r4z8",
        "colab_type": "code",
        "colab": {},
        "outputId": "c343c9ec-63d6-4797-d0a0-50d367d20d72"
      },
      "source": [
        "# Join and Clean\n",
        "combine = pd.concat([train_df, test_df])"
      ],
      "execution_count": null,
      "outputs": [
        {
          "output_type": "stream",
          "text": [
            "/opt/conda/envs/Python36/lib/python3.6/site-packages/ipykernel/__main__.py:2: FutureWarning: Sorting because non-concatenation axis is not aligned. A future version\n",
            "of pandas will change to not sort by default.\n",
            "\n",
            "To accept the future behavior, pass 'sort=False'.\n",
            "\n",
            "To retain the current behavior and silence the warning, pass 'sort=True'.\n",
            "\n",
            "  from ipykernel import kernelapp as app\n"
          ],
          "name": "stderr"
        }
      ]
    },
    {
      "cell_type": "code",
      "metadata": {
        "id": "MOBpyjWOr40i",
        "colab_type": "code",
        "colab": {},
        "outputId": "76439b4c-d838-4560-8b7e-2edb3b0433c7"
      },
      "source": [
        "# EDA\n",
        "combine.info()"
      ],
      "execution_count": null,
      "outputs": [
        {
          "output_type": "stream",
          "text": [
            "<class 'pandas.core.frame.DataFrame'>\n",
            "Int64Index: 1309 entries, 0 to 417\n",
            "Data columns (total 12 columns):\n",
            "Age            1046 non-null float64\n",
            "Cabin          295 non-null object\n",
            "Embarked       1307 non-null object\n",
            "Fare           1308 non-null float64\n",
            "Name           1309 non-null object\n",
            "Parch          1309 non-null int64\n",
            "PassengerId    1309 non-null int64\n",
            "Pclass         1309 non-null int64\n",
            "Sex            1309 non-null object\n",
            "SibSp          1309 non-null int64\n",
            "Survived       891 non-null float64\n",
            "Ticket         1309 non-null object\n",
            "dtypes: float64(3), int64(4), object(5)\n",
            "memory usage: 132.9+ KB\n"
          ],
          "name": "stdout"
        }
      ]
    },
    {
      "cell_type": "code",
      "metadata": {
        "id": "-DEa_rD5r40w",
        "colab_type": "code",
        "colab": {},
        "outputId": "cb384576-d6cb-4bff-b64a-b5ee7f2bc0fe"
      },
      "source": [
        "combine.columns"
      ],
      "execution_count": null,
      "outputs": [
        {
          "output_type": "execute_result",
          "data": {
            "text/plain": [
              "Index(['Age', 'Cabin', 'Embarked', 'Fare', 'Name', 'Parch', 'PassengerId',\n",
              "       'Pclass', 'Sex', 'SibSp', 'Survived', 'Ticket'],\n",
              "      dtype='object')"
            ]
          },
          "metadata": {
            "tags": []
          },
          "execution_count": 10
        }
      ]
    },
    {
      "cell_type": "code",
      "metadata": {
        "id": "ryvEn5wvr41E",
        "colab_type": "code",
        "colab": {}
      },
      "source": [
        "mapping = {'Mlle': 'Miss', 'Major': 'Mr', 'Col': 'Mr', 'Sir': 'Mr', 'Don': 'Mr', 'Mme': 'Miss',\n",
        "          'Jonkheer': 'Mr', 'Lady': 'Mrs', 'Capt': 'Mr', 'Countess': 'Mrs', 'Ms': 'Miss', 'Dona': 'Mrs'}"
      ],
      "execution_count": null,
      "outputs": []
    },
    {
      "cell_type": "code",
      "metadata": {
        "id": "eht0KyQar41Z",
        "colab_type": "code",
        "colab": {}
      },
      "source": [
        "combine['Title'] = combine.Name.apply(lambda x: x.split(\".\")[0].split(\",\")[1].strip()).replace(mapping)"
      ],
      "execution_count": null,
      "outputs": []
    },
    {
      "cell_type": "code",
      "metadata": {
        "id": "g0b2YDDFr41-",
        "colab_type": "code",
        "colab": {}
      },
      "source": [
        "combine.drop(['Cabin', 'Ticket', 'Name'], axis=1, inplace=True)"
      ],
      "execution_count": null,
      "outputs": []
    },
    {
      "cell_type": "code",
      "metadata": {
        "id": "0f_QA4R0r42T",
        "colab_type": "code",
        "colab": {}
      },
      "source": [
        "# combine['Sex2'] = combine['Sex'].apply(lambda x: 0 if x=='female' else 1)"
      ],
      "execution_count": null,
      "outputs": []
    },
    {
      "cell_type": "code",
      "metadata": {
        "id": "M_KM2Pp0r42p",
        "colab_type": "code",
        "colab": {}
      },
      "source": [
        "# class ModifiedLabelEncoder(LabelEncoder):\n",
        "\n",
        "#     def fit_transform(self, y, *args, **kwargs):\n",
        "#         return super().fit_transform(y)\n",
        "\n",
        "#     def transform(self, y, *args, **kwargs):\n",
        "#         return super().transform(y)"
      ],
      "execution_count": null,
      "outputs": []
    },
    {
      "cell_type": "code",
      "metadata": {
        "id": "ef5ZhUYGr421",
        "colab_type": "code",
        "colab": {}
      },
      "source": [
        "categorical_transformer = Pipeline(steps=[\n",
        "    (\"imputer\", SimpleImputer(strategy=\"most_frequent\")),\n",
        "    (\"encode\", OrdinalEncoder()),\n",
        "])\n",
        "\n",
        "numeric_transformer = Pipeline([\n",
        "    (\"imputer\", SimpleImputer(strategy=\"median\")),\n",
        "])"
      ],
      "execution_count": null,
      "outputs": []
    },
    {
      "cell_type": "code",
      "metadata": {
        "id": "RK2CUmpcr43I",
        "colab_type": "code",
        "colab": {}
      },
      "source": [
        "combine[['Sex','Embarked', 'Title']] = categorical_transformer.fit_transform(combine[['Sex', 'Embarked', 'Title']])"
      ],
      "execution_count": null,
      "outputs": []
    },
    {
      "cell_type": "code",
      "metadata": {
        "id": "cWUn89cmr43e",
        "colab_type": "code",
        "colab": {}
      },
      "source": [
        "combine[['Age', 'Fare']] = numeric_transformer.fit_transform(combine[['Age', 'Fare']])"
      ],
      "execution_count": null,
      "outputs": []
    },
    {
      "cell_type": "code",
      "metadata": {
        "id": "aU1nVplRr430",
        "colab_type": "code",
        "colab": {},
        "outputId": "ec8436d8-ba05-4320-f285-18e4102a21fa"
      },
      "source": [
        "es = ft.EntitySet(id = 'titanic_data')\n",
        "\n",
        "es = es.entity_from_dataframe(entity_id = 'combine', dataframe = combine.drop(['Survived'], axis=1), \n",
        "                              variable_types = \n",
        "                              {\n",
        "                                  'Embarked': ft.variable_types.Categorical,\n",
        "                                  'Sex': ft.variable_types.Boolean,\n",
        "                                  'Title': ft.variable_types.Categorical\n",
        "                              },\n",
        "                              index = 'PassengerId')\n",
        "\n",
        "es"
      ],
      "execution_count": null,
      "outputs": [
        {
          "output_type": "execute_result",
          "data": {
            "text/plain": [
              "Entityset: titanic_data\n",
              "  Entities:\n",
              "    combine [Rows: 1309, Columns: 9]\n",
              "  Relationships:\n",
              "    No relationships"
            ]
          },
          "metadata": {
            "tags": []
          },
          "execution_count": 19
        }
      ]
    },
    {
      "cell_type": "code",
      "metadata": {
        "id": "eTxALOFTr44C",
        "colab_type": "code",
        "colab": {},
        "outputId": "902dbdf5-d9a7-4d45-fdcb-30417f078658"
      },
      "source": [
        "es = es.normalize_entity(base_entity_id='combine', new_entity_id='Embarked', index='Embarked')\n",
        "es = es.normalize_entity(base_entity_id='combine', new_entity_id='Sex', index='Sex')\n",
        "es = es.normalize_entity(base_entity_id='combine', new_entity_id='Title', index='Title')\n",
        "es = es.normalize_entity(base_entity_id='combine', new_entity_id='Pclass', index='Pclass')\n",
        "es = es.normalize_entity(base_entity_id='combine', new_entity_id='Parch', index='Parch')\n",
        "es = es.normalize_entity(base_entity_id='combine', new_entity_id='SibSp', index='SibSp')\n",
        "es"
      ],
      "execution_count": null,
      "outputs": [
        {
          "output_type": "execute_result",
          "data": {
            "text/plain": [
              "Entityset: titanic_data\n",
              "  Entities:\n",
              "    combine [Rows: 1309, Columns: 9]\n",
              "    Embarked [Rows: 3, Columns: 1]\n",
              "    Sex [Rows: 2, Columns: 1]\n",
              "    Title [Rows: 7, Columns: 1]\n",
              "    Pclass [Rows: 3, Columns: 1]\n",
              "    Parch [Rows: 8, Columns: 1]\n",
              "    SibSp [Rows: 7, Columns: 1]\n",
              "  Relationships:\n",
              "    combine.Embarked -> Embarked.Embarked\n",
              "    combine.Sex -> Sex.Sex\n",
              "    combine.Title -> Title.Title\n",
              "    combine.Pclass -> Pclass.Pclass\n",
              "    combine.Parch -> Parch.Parch\n",
              "    combine.SibSp -> SibSp.SibSp"
            ]
          },
          "metadata": {
            "tags": []
          },
          "execution_count": 20
        }
      ]
    },
    {
      "cell_type": "code",
      "metadata": {
        "id": "eae_JR98r44T",
        "colab_type": "code",
        "colab": {},
        "outputId": "b63e6de2-6763-4b51-8435-300ccc373dce"
      },
      "source": [
        "primitives = ft.list_primitives()\n",
        "pd.options.display.max_colwidth = 100\n",
        "primitives[primitives['type'] == 'aggregation'].head(primitives[primitives['type'] == 'aggregation'].shape[0])"
      ],
      "execution_count": null,
      "outputs": [
        {
          "output_type": "execute_result",
          "data": {
            "text/html": [
              "<div>\n",
              "<style scoped>\n",
              "    .dataframe tbody tr th:only-of-type {\n",
              "        vertical-align: middle;\n",
              "    }\n",
              "\n",
              "    .dataframe tbody tr th {\n",
              "        vertical-align: top;\n",
              "    }\n",
              "\n",
              "    .dataframe thead th {\n",
              "        text-align: right;\n",
              "    }\n",
              "</style>\n",
              "<table border=\"1\" class=\"dataframe\">\n",
              "  <thead>\n",
              "    <tr style=\"text-align: right;\">\n",
              "      <th></th>\n",
              "      <th>name</th>\n",
              "      <th>type</th>\n",
              "      <th>dask_compatible</th>\n",
              "      <th>description</th>\n",
              "    </tr>\n",
              "  </thead>\n",
              "  <tbody>\n",
              "    <tr>\n",
              "      <th>0</th>\n",
              "      <td>n_most_common</td>\n",
              "      <td>aggregation</td>\n",
              "      <td>False</td>\n",
              "      <td>Determines the `n` most common elements.</td>\n",
              "    </tr>\n",
              "    <tr>\n",
              "      <th>1</th>\n",
              "      <td>sum</td>\n",
              "      <td>aggregation</td>\n",
              "      <td>True</td>\n",
              "      <td>Calculates the total addition, ignoring `NaN`.</td>\n",
              "    </tr>\n",
              "    <tr>\n",
              "      <th>2</th>\n",
              "      <td>num_true</td>\n",
              "      <td>aggregation</td>\n",
              "      <td>True</td>\n",
              "      <td>Counts the number of `True` values.</td>\n",
              "    </tr>\n",
              "    <tr>\n",
              "      <th>3</th>\n",
              "      <td>all</td>\n",
              "      <td>aggregation</td>\n",
              "      <td>True</td>\n",
              "      <td>Calculates if all values are 'True' in a list.</td>\n",
              "    </tr>\n",
              "    <tr>\n",
              "      <th>4</th>\n",
              "      <td>last</td>\n",
              "      <td>aggregation</td>\n",
              "      <td>False</td>\n",
              "      <td>Determines the last value in a list.</td>\n",
              "    </tr>\n",
              "    <tr>\n",
              "      <th>5</th>\n",
              "      <td>count</td>\n",
              "      <td>aggregation</td>\n",
              "      <td>True</td>\n",
              "      <td>Determines the total number of values, excluding `NaN`.</td>\n",
              "    </tr>\n",
              "    <tr>\n",
              "      <th>6</th>\n",
              "      <td>std</td>\n",
              "      <td>aggregation</td>\n",
              "      <td>True</td>\n",
              "      <td>Computes the dispersion relative to the mean value, ignoring `NaN`.</td>\n",
              "    </tr>\n",
              "    <tr>\n",
              "      <th>7</th>\n",
              "      <td>num_unique</td>\n",
              "      <td>aggregation</td>\n",
              "      <td>True</td>\n",
              "      <td>Determines the number of distinct values, ignoring `NaN` values.</td>\n",
              "    </tr>\n",
              "    <tr>\n",
              "      <th>8</th>\n",
              "      <td>median</td>\n",
              "      <td>aggregation</td>\n",
              "      <td>False</td>\n",
              "      <td>Determines the middlemost number in a list of values.</td>\n",
              "    </tr>\n",
              "    <tr>\n",
              "      <th>9</th>\n",
              "      <td>min</td>\n",
              "      <td>aggregation</td>\n",
              "      <td>True</td>\n",
              "      <td>Calculates the smallest value, ignoring `NaN` values.</td>\n",
              "    </tr>\n",
              "    <tr>\n",
              "      <th>10</th>\n",
              "      <td>mean</td>\n",
              "      <td>aggregation</td>\n",
              "      <td>True</td>\n",
              "      <td>Computes the average for a list of values.</td>\n",
              "    </tr>\n",
              "    <tr>\n",
              "      <th>11</th>\n",
              "      <td>avg_time_between</td>\n",
              "      <td>aggregation</td>\n",
              "      <td>False</td>\n",
              "      <td>Computes the average number of seconds between consecutive events.</td>\n",
              "    </tr>\n",
              "    <tr>\n",
              "      <th>12</th>\n",
              "      <td>percent_true</td>\n",
              "      <td>aggregation</td>\n",
              "      <td>True</td>\n",
              "      <td>Determines the percent of `True` values.</td>\n",
              "    </tr>\n",
              "    <tr>\n",
              "      <th>13</th>\n",
              "      <td>time_since_last</td>\n",
              "      <td>aggregation</td>\n",
              "      <td>False</td>\n",
              "      <td>Calculates the time elapsed since the last datetime (default in seconds).</td>\n",
              "    </tr>\n",
              "    <tr>\n",
              "      <th>14</th>\n",
              "      <td>any</td>\n",
              "      <td>aggregation</td>\n",
              "      <td>True</td>\n",
              "      <td>Determines if any value is 'True' in a list.</td>\n",
              "    </tr>\n",
              "    <tr>\n",
              "      <th>15</th>\n",
              "      <td>time_since_first</td>\n",
              "      <td>aggregation</td>\n",
              "      <td>False</td>\n",
              "      <td>Calculates the time elapsed since the first datetime (in seconds).</td>\n",
              "    </tr>\n",
              "    <tr>\n",
              "      <th>16</th>\n",
              "      <td>trend</td>\n",
              "      <td>aggregation</td>\n",
              "      <td>False</td>\n",
              "      <td>Calculates the trend of a variable over time.</td>\n",
              "    </tr>\n",
              "    <tr>\n",
              "      <th>17</th>\n",
              "      <td>first</td>\n",
              "      <td>aggregation</td>\n",
              "      <td>False</td>\n",
              "      <td>Determines the first value in a list.</td>\n",
              "    </tr>\n",
              "    <tr>\n",
              "      <th>18</th>\n",
              "      <td>entropy</td>\n",
              "      <td>aggregation</td>\n",
              "      <td>False</td>\n",
              "      <td>Calculates the entropy for a categorical variable</td>\n",
              "    </tr>\n",
              "    <tr>\n",
              "      <th>19</th>\n",
              "      <td>skew</td>\n",
              "      <td>aggregation</td>\n",
              "      <td>False</td>\n",
              "      <td>Computes the extent to which a distribution differs from a normal distribution.</td>\n",
              "    </tr>\n",
              "    <tr>\n",
              "      <th>20</th>\n",
              "      <td>max</td>\n",
              "      <td>aggregation</td>\n",
              "      <td>True</td>\n",
              "      <td>Calculates the highest value, ignoring `NaN` values.</td>\n",
              "    </tr>\n",
              "    <tr>\n",
              "      <th>21</th>\n",
              "      <td>mode</td>\n",
              "      <td>aggregation</td>\n",
              "      <td>False</td>\n",
              "      <td>Determines the most commonly repeated value.</td>\n",
              "    </tr>\n",
              "  </tbody>\n",
              "</table>\n",
              "</div>"
            ],
            "text/plain": [
              "                name         type  dask_compatible  \\\n",
              "0      n_most_common  aggregation            False   \n",
              "1                sum  aggregation             True   \n",
              "2           num_true  aggregation             True   \n",
              "3                all  aggregation             True   \n",
              "4               last  aggregation            False   \n",
              "5              count  aggregation             True   \n",
              "6                std  aggregation             True   \n",
              "7         num_unique  aggregation             True   \n",
              "8             median  aggregation            False   \n",
              "9                min  aggregation             True   \n",
              "10              mean  aggregation             True   \n",
              "11  avg_time_between  aggregation            False   \n",
              "12      percent_true  aggregation             True   \n",
              "13   time_since_last  aggregation            False   \n",
              "14               any  aggregation             True   \n",
              "15  time_since_first  aggregation            False   \n",
              "16             trend  aggregation            False   \n",
              "17             first  aggregation            False   \n",
              "18           entropy  aggregation            False   \n",
              "19              skew  aggregation            False   \n",
              "20               max  aggregation             True   \n",
              "21              mode  aggregation            False   \n",
              "\n",
              "                                                                        description  \n",
              "0                                          Determines the `n` most common elements.  \n",
              "1                                    Calculates the total addition, ignoring `NaN`.  \n",
              "2                                               Counts the number of `True` values.  \n",
              "3                                    Calculates if all values are 'True' in a list.  \n",
              "4                                              Determines the last value in a list.  \n",
              "5                           Determines the total number of values, excluding `NaN`.  \n",
              "6               Computes the dispersion relative to the mean value, ignoring `NaN`.  \n",
              "7                  Determines the number of distinct values, ignoring `NaN` values.  \n",
              "8                             Determines the middlemost number in a list of values.  \n",
              "9                             Calculates the smallest value, ignoring `NaN` values.  \n",
              "10                                       Computes the average for a list of values.  \n",
              "11               Computes the average number of seconds between consecutive events.  \n",
              "12                                         Determines the percent of `True` values.  \n",
              "13        Calculates the time elapsed since the last datetime (default in seconds).  \n",
              "14                                     Determines if any value is 'True' in a list.  \n",
              "15               Calculates the time elapsed since the first datetime (in seconds).  \n",
              "16                                    Calculates the trend of a variable over time.  \n",
              "17                                            Determines the first value in a list.  \n",
              "18                                Calculates the entropy for a categorical variable  \n",
              "19  Computes the extent to which a distribution differs from a normal distribution.  \n",
              "20                             Calculates the highest value, ignoring `NaN` values.  \n",
              "21                                     Determines the most commonly repeated value.  "
            ]
          },
          "metadata": {
            "tags": []
          },
          "execution_count": 21
        }
      ]
    },
    {
      "cell_type": "code",
      "metadata": {
        "id": "j5oMl_aUr44j",
        "colab_type": "code",
        "colab": {},
        "outputId": "527d47b4-02c5-4c81-b053-f0cf39e47975"
      },
      "source": [
        "primitives[primitives['type'] == 'transform'].head(primitives[primitives['type'] == 'transform'].shape[0])"
      ],
      "execution_count": null,
      "outputs": [
        {
          "output_type": "execute_result",
          "data": {
            "text/html": [
              "<div>\n",
              "<style scoped>\n",
              "    .dataframe tbody tr th:only-of-type {\n",
              "        vertical-align: middle;\n",
              "    }\n",
              "\n",
              "    .dataframe tbody tr th {\n",
              "        vertical-align: top;\n",
              "    }\n",
              "\n",
              "    .dataframe thead th {\n",
              "        text-align: right;\n",
              "    }\n",
              "</style>\n",
              "<table border=\"1\" class=\"dataframe\">\n",
              "  <thead>\n",
              "    <tr style=\"text-align: right;\">\n",
              "      <th></th>\n",
              "      <th>name</th>\n",
              "      <th>type</th>\n",
              "      <th>dask_compatible</th>\n",
              "      <th>description</th>\n",
              "    </tr>\n",
              "  </thead>\n",
              "  <tbody>\n",
              "    <tr>\n",
              "      <th>22</th>\n",
              "      <td>greater_than_equal_to</td>\n",
              "      <td>transform</td>\n",
              "      <td>True</td>\n",
              "      <td>Determines if values in one list are greater than or equal to another list.</td>\n",
              "    </tr>\n",
              "    <tr>\n",
              "      <th>23</th>\n",
              "      <td>subtract_numeric_scalar</td>\n",
              "      <td>transform</td>\n",
              "      <td>True</td>\n",
              "      <td>Subtract a scalar from each element in the list.</td>\n",
              "    </tr>\n",
              "    <tr>\n",
              "      <th>24</th>\n",
              "      <td>divide_numeric_scalar</td>\n",
              "      <td>transform</td>\n",
              "      <td>True</td>\n",
              "      <td>Divide each element in the list by a scalar.</td>\n",
              "    </tr>\n",
              "    <tr>\n",
              "      <th>25</th>\n",
              "      <td>divide_by_feature</td>\n",
              "      <td>transform</td>\n",
              "      <td>True</td>\n",
              "      <td>Divide a scalar by each value in the list.</td>\n",
              "    </tr>\n",
              "    <tr>\n",
              "      <th>26</th>\n",
              "      <td>less_than</td>\n",
              "      <td>transform</td>\n",
              "      <td>True</td>\n",
              "      <td>Determines if values in one list are less than another list.</td>\n",
              "    </tr>\n",
              "    <tr>\n",
              "      <th>27</th>\n",
              "      <td>latitude</td>\n",
              "      <td>transform</td>\n",
              "      <td>False</td>\n",
              "      <td>Returns the first tuple value in a list of LatLong tuples.</td>\n",
              "    </tr>\n",
              "    <tr>\n",
              "      <th>28</th>\n",
              "      <td>greater_than</td>\n",
              "      <td>transform</td>\n",
              "      <td>True</td>\n",
              "      <td>Determines if values in one list are greater than another list.</td>\n",
              "    </tr>\n",
              "    <tr>\n",
              "      <th>29</th>\n",
              "      <td>cum_min</td>\n",
              "      <td>transform</td>\n",
              "      <td>False</td>\n",
              "      <td>Calculates the cumulative minimum.</td>\n",
              "    </tr>\n",
              "    <tr>\n",
              "      <th>30</th>\n",
              "      <td>minute</td>\n",
              "      <td>transform</td>\n",
              "      <td>True</td>\n",
              "      <td>Determines the minutes value of a datetime.</td>\n",
              "    </tr>\n",
              "    <tr>\n",
              "      <th>31</th>\n",
              "      <td>not</td>\n",
              "      <td>transform</td>\n",
              "      <td>True</td>\n",
              "      <td>Negates a boolean value.</td>\n",
              "    </tr>\n",
              "    <tr>\n",
              "      <th>32</th>\n",
              "      <td>longitude</td>\n",
              "      <td>transform</td>\n",
              "      <td>False</td>\n",
              "      <td>Returns the second tuple value in a list of LatLong tuples.</td>\n",
              "    </tr>\n",
              "    <tr>\n",
              "      <th>33</th>\n",
              "      <td>cum_count</td>\n",
              "      <td>transform</td>\n",
              "      <td>False</td>\n",
              "      <td>Calculates the cumulative count.</td>\n",
              "    </tr>\n",
              "    <tr>\n",
              "      <th>34</th>\n",
              "      <td>hour</td>\n",
              "      <td>transform</td>\n",
              "      <td>True</td>\n",
              "      <td>Determines the hour value of a datetime.</td>\n",
              "    </tr>\n",
              "    <tr>\n",
              "      <th>35</th>\n",
              "      <td>subtract_numeric</td>\n",
              "      <td>transform</td>\n",
              "      <td>True</td>\n",
              "      <td>Element-wise subtraction of two lists.</td>\n",
              "    </tr>\n",
              "    <tr>\n",
              "      <th>36</th>\n",
              "      <td>diff</td>\n",
              "      <td>transform</td>\n",
              "      <td>False</td>\n",
              "      <td>Compute the difference between the value in a list and the</td>\n",
              "    </tr>\n",
              "    <tr>\n",
              "      <th>37</th>\n",
              "      <td>num_words</td>\n",
              "      <td>transform</td>\n",
              "      <td>True</td>\n",
              "      <td>Determines the number of words in a string by counting the spaces.</td>\n",
              "    </tr>\n",
              "    <tr>\n",
              "      <th>38</th>\n",
              "      <td>divide_numeric</td>\n",
              "      <td>transform</td>\n",
              "      <td>True</td>\n",
              "      <td>Element-wise division of two lists.</td>\n",
              "    </tr>\n",
              "    <tr>\n",
              "      <th>39</th>\n",
              "      <td>add_numeric</td>\n",
              "      <td>transform</td>\n",
              "      <td>True</td>\n",
              "      <td>Element-wise addition of two lists.</td>\n",
              "    </tr>\n",
              "    <tr>\n",
              "      <th>40</th>\n",
              "      <td>month</td>\n",
              "      <td>transform</td>\n",
              "      <td>True</td>\n",
              "      <td>Determines the month value of a datetime.</td>\n",
              "    </tr>\n",
              "    <tr>\n",
              "      <th>41</th>\n",
              "      <td>weekday</td>\n",
              "      <td>transform</td>\n",
              "      <td>True</td>\n",
              "      <td>Determines the day of the week from a datetime.</td>\n",
              "    </tr>\n",
              "    <tr>\n",
              "      <th>42</th>\n",
              "      <td>multiply_numeric_scalar</td>\n",
              "      <td>transform</td>\n",
              "      <td>True</td>\n",
              "      <td>Multiply each element in the list by a scalar.</td>\n",
              "    </tr>\n",
              "    <tr>\n",
              "      <th>43</th>\n",
              "      <td>absolute</td>\n",
              "      <td>transform</td>\n",
              "      <td>True</td>\n",
              "      <td>Computes the absolute value of a number.</td>\n",
              "    </tr>\n",
              "    <tr>\n",
              "      <th>44</th>\n",
              "      <td>not_equal</td>\n",
              "      <td>transform</td>\n",
              "      <td>False</td>\n",
              "      <td>Determines if values in one list are not equal to another list.</td>\n",
              "    </tr>\n",
              "    <tr>\n",
              "      <th>45</th>\n",
              "      <td>modulo_by_feature</td>\n",
              "      <td>transform</td>\n",
              "      <td>True</td>\n",
              "      <td>Return the modulo of a scalar by each element in the list.</td>\n",
              "    </tr>\n",
              "    <tr>\n",
              "      <th>46</th>\n",
              "      <td>scalar_subtract_numeric_feature</td>\n",
              "      <td>transform</td>\n",
              "      <td>True</td>\n",
              "      <td>Subtract each value in the list from a given scalar.</td>\n",
              "    </tr>\n",
              "    <tr>\n",
              "      <th>47</th>\n",
              "      <td>equal</td>\n",
              "      <td>transform</td>\n",
              "      <td>False</td>\n",
              "      <td>Determines if values in one list are equal to another list.</td>\n",
              "    </tr>\n",
              "    <tr>\n",
              "      <th>48</th>\n",
              "      <td>is_weekend</td>\n",
              "      <td>transform</td>\n",
              "      <td>True</td>\n",
              "      <td>Determines if a date falls on a weekend.</td>\n",
              "    </tr>\n",
              "    <tr>\n",
              "      <th>49</th>\n",
              "      <td>modulo_numeric</td>\n",
              "      <td>transform</td>\n",
              "      <td>True</td>\n",
              "      <td>Element-wise modulo of two lists.</td>\n",
              "    </tr>\n",
              "    <tr>\n",
              "      <th>50</th>\n",
              "      <td>age</td>\n",
              "      <td>transform</td>\n",
              "      <td>False</td>\n",
              "      <td>Calculates the age in years as a floating point number given a</td>\n",
              "    </tr>\n",
              "    <tr>\n",
              "      <th>51</th>\n",
              "      <td>less_than_equal_to</td>\n",
              "      <td>transform</td>\n",
              "      <td>True</td>\n",
              "      <td>Determines if values in one list are less than or equal to another list.</td>\n",
              "    </tr>\n",
              "    <tr>\n",
              "      <th>52</th>\n",
              "      <td>less_than_scalar</td>\n",
              "      <td>transform</td>\n",
              "      <td>True</td>\n",
              "      <td>Determines if values are less than a given scalar.</td>\n",
              "    </tr>\n",
              "    <tr>\n",
              "      <th>53</th>\n",
              "      <td>greater_than_scalar</td>\n",
              "      <td>transform</td>\n",
              "      <td>True</td>\n",
              "      <td>Determines if values are greater than a given scalar.</td>\n",
              "    </tr>\n",
              "    <tr>\n",
              "      <th>54</th>\n",
              "      <td>cum_max</td>\n",
              "      <td>transform</td>\n",
              "      <td>False</td>\n",
              "      <td>Calculates the cumulative maximum.</td>\n",
              "    </tr>\n",
              "    <tr>\n",
              "      <th>55</th>\n",
              "      <td>week</td>\n",
              "      <td>transform</td>\n",
              "      <td>True</td>\n",
              "      <td>Determines the week of the year from a datetime.</td>\n",
              "    </tr>\n",
              "    <tr>\n",
              "      <th>56</th>\n",
              "      <td>greater_than_equal_to_scalar</td>\n",
              "      <td>transform</td>\n",
              "      <td>True</td>\n",
              "      <td>Determines if values are greater than or equal to a given scalar.</td>\n",
              "    </tr>\n",
              "    <tr>\n",
              "      <th>57</th>\n",
              "      <td>percentile</td>\n",
              "      <td>transform</td>\n",
              "      <td>False</td>\n",
              "      <td>Determines the percentile rank for each value in a list.</td>\n",
              "    </tr>\n",
              "    <tr>\n",
              "      <th>58</th>\n",
              "      <td>haversine</td>\n",
              "      <td>transform</td>\n",
              "      <td>False</td>\n",
              "      <td>Calculates the approximate haversine distance between two LatLong</td>\n",
              "    </tr>\n",
              "    <tr>\n",
              "      <th>59</th>\n",
              "      <td>cum_mean</td>\n",
              "      <td>transform</td>\n",
              "      <td>False</td>\n",
              "      <td>Calculates the cumulative mean.</td>\n",
              "    </tr>\n",
              "    <tr>\n",
              "      <th>60</th>\n",
              "      <td>second</td>\n",
              "      <td>transform</td>\n",
              "      <td>True</td>\n",
              "      <td>Determines the seconds value of a datetime.</td>\n",
              "    </tr>\n",
              "    <tr>\n",
              "      <th>61</th>\n",
              "      <td>negate</td>\n",
              "      <td>transform</td>\n",
              "      <td>True</td>\n",
              "      <td>Negates a numeric value.</td>\n",
              "    </tr>\n",
              "    <tr>\n",
              "      <th>62</th>\n",
              "      <td>time_since</td>\n",
              "      <td>transform</td>\n",
              "      <td>True</td>\n",
              "      <td>Calculates time from a value to a specified cutoff datetime.</td>\n",
              "    </tr>\n",
              "    <tr>\n",
              "      <th>63</th>\n",
              "      <td>cum_sum</td>\n",
              "      <td>transform</td>\n",
              "      <td>False</td>\n",
              "      <td>Calculates the cumulative sum.</td>\n",
              "    </tr>\n",
              "    <tr>\n",
              "      <th>64</th>\n",
              "      <td>day</td>\n",
              "      <td>transform</td>\n",
              "      <td>True</td>\n",
              "      <td>Determines the day of the month from a datetime.</td>\n",
              "    </tr>\n",
              "    <tr>\n",
              "      <th>65</th>\n",
              "      <td>add_numeric_scalar</td>\n",
              "      <td>transform</td>\n",
              "      <td>True</td>\n",
              "      <td>Add a scalar to each value in the list.</td>\n",
              "    </tr>\n",
              "    <tr>\n",
              "      <th>66</th>\n",
              "      <td>isin</td>\n",
              "      <td>transform</td>\n",
              "      <td>True</td>\n",
              "      <td>Determines whether a value is present in a provided list.</td>\n",
              "    </tr>\n",
              "    <tr>\n",
              "      <th>67</th>\n",
              "      <td>num_characters</td>\n",
              "      <td>transform</td>\n",
              "      <td>True</td>\n",
              "      <td>Calculates the number of characters in a string.</td>\n",
              "    </tr>\n",
              "    <tr>\n",
              "      <th>68</th>\n",
              "      <td>year</td>\n",
              "      <td>transform</td>\n",
              "      <td>True</td>\n",
              "      <td>Determines the year value of a datetime.</td>\n",
              "    </tr>\n",
              "    <tr>\n",
              "      <th>69</th>\n",
              "      <td>multiply_boolean</td>\n",
              "      <td>transform</td>\n",
              "      <td>True</td>\n",
              "      <td>Element-wise multiplication of two lists of boolean values.</td>\n",
              "    </tr>\n",
              "    <tr>\n",
              "      <th>70</th>\n",
              "      <td>time_since_previous</td>\n",
              "      <td>transform</td>\n",
              "      <td>False</td>\n",
              "      <td>Compute the time since the previous entry in a list.</td>\n",
              "    </tr>\n",
              "    <tr>\n",
              "      <th>71</th>\n",
              "      <td>not_equal_scalar</td>\n",
              "      <td>transform</td>\n",
              "      <td>True</td>\n",
              "      <td>Determines if values in a list are not equal to a given scalar.</td>\n",
              "    </tr>\n",
              "    <tr>\n",
              "      <th>72</th>\n",
              "      <td>and</td>\n",
              "      <td>transform</td>\n",
              "      <td>True</td>\n",
              "      <td>Element-wise logical AND of two lists.</td>\n",
              "    </tr>\n",
              "    <tr>\n",
              "      <th>73</th>\n",
              "      <td>is_null</td>\n",
              "      <td>transform</td>\n",
              "      <td>True</td>\n",
              "      <td>Determines if a value is null.</td>\n",
              "    </tr>\n",
              "    <tr>\n",
              "      <th>74</th>\n",
              "      <td>equal_scalar</td>\n",
              "      <td>transform</td>\n",
              "      <td>True</td>\n",
              "      <td>Determines if values in a list are equal to a given scalar.</td>\n",
              "    </tr>\n",
              "    <tr>\n",
              "      <th>75</th>\n",
              "      <td>multiply_numeric</td>\n",
              "      <td>transform</td>\n",
              "      <td>True</td>\n",
              "      <td>Element-wise multiplication of two lists.</td>\n",
              "    </tr>\n",
              "    <tr>\n",
              "      <th>76</th>\n",
              "      <td>modulo_numeric_scalar</td>\n",
              "      <td>transform</td>\n",
              "      <td>True</td>\n",
              "      <td>Return the modulo of each element in the list by a scalar.</td>\n",
              "    </tr>\n",
              "    <tr>\n",
              "      <th>77</th>\n",
              "      <td>or</td>\n",
              "      <td>transform</td>\n",
              "      <td>True</td>\n",
              "      <td>Element-wise logical OR of two lists.</td>\n",
              "    </tr>\n",
              "    <tr>\n",
              "      <th>78</th>\n",
              "      <td>less_than_equal_to_scalar</td>\n",
              "      <td>transform</td>\n",
              "      <td>True</td>\n",
              "      <td>Determines if values are less than or equal to a given scalar.</td>\n",
              "    </tr>\n",
              "  </tbody>\n",
              "</table>\n",
              "</div>"
            ],
            "text/plain": [
              "                               name       type  dask_compatible  \\\n",
              "22            greater_than_equal_to  transform             True   \n",
              "23          subtract_numeric_scalar  transform             True   \n",
              "24            divide_numeric_scalar  transform             True   \n",
              "25                divide_by_feature  transform             True   \n",
              "26                        less_than  transform             True   \n",
              "27                         latitude  transform            False   \n",
              "28                     greater_than  transform             True   \n",
              "29                          cum_min  transform            False   \n",
              "30                           minute  transform             True   \n",
              "31                              not  transform             True   \n",
              "32                        longitude  transform            False   \n",
              "33                        cum_count  transform            False   \n",
              "34                             hour  transform             True   \n",
              "35                 subtract_numeric  transform             True   \n",
              "36                             diff  transform            False   \n",
              "37                        num_words  transform             True   \n",
              "38                   divide_numeric  transform             True   \n",
              "39                      add_numeric  transform             True   \n",
              "40                            month  transform             True   \n",
              "41                          weekday  transform             True   \n",
              "42          multiply_numeric_scalar  transform             True   \n",
              "43                         absolute  transform             True   \n",
              "44                        not_equal  transform            False   \n",
              "45                modulo_by_feature  transform             True   \n",
              "46  scalar_subtract_numeric_feature  transform             True   \n",
              "47                            equal  transform            False   \n",
              "48                       is_weekend  transform             True   \n",
              "49                   modulo_numeric  transform             True   \n",
              "50                              age  transform            False   \n",
              "51               less_than_equal_to  transform             True   \n",
              "52                 less_than_scalar  transform             True   \n",
              "53              greater_than_scalar  transform             True   \n",
              "54                          cum_max  transform            False   \n",
              "55                             week  transform             True   \n",
              "56     greater_than_equal_to_scalar  transform             True   \n",
              "57                       percentile  transform            False   \n",
              "58                        haversine  transform            False   \n",
              "59                         cum_mean  transform            False   \n",
              "60                           second  transform             True   \n",
              "61                           negate  transform             True   \n",
              "62                       time_since  transform             True   \n",
              "63                          cum_sum  transform            False   \n",
              "64                              day  transform             True   \n",
              "65               add_numeric_scalar  transform             True   \n",
              "66                             isin  transform             True   \n",
              "67                   num_characters  transform             True   \n",
              "68                             year  transform             True   \n",
              "69                 multiply_boolean  transform             True   \n",
              "70              time_since_previous  transform            False   \n",
              "71                 not_equal_scalar  transform             True   \n",
              "72                              and  transform             True   \n",
              "73                          is_null  transform             True   \n",
              "74                     equal_scalar  transform             True   \n",
              "75                 multiply_numeric  transform             True   \n",
              "76            modulo_numeric_scalar  transform             True   \n",
              "77                               or  transform             True   \n",
              "78        less_than_equal_to_scalar  transform             True   \n",
              "\n",
              "                                                                    description  \n",
              "22  Determines if values in one list are greater than or equal to another list.  \n",
              "23                             Subtract a scalar from each element in the list.  \n",
              "24                                 Divide each element in the list by a scalar.  \n",
              "25                                   Divide a scalar by each value in the list.  \n",
              "26                 Determines if values in one list are less than another list.  \n",
              "27                   Returns the first tuple value in a list of LatLong tuples.  \n",
              "28              Determines if values in one list are greater than another list.  \n",
              "29                                           Calculates the cumulative minimum.  \n",
              "30                                  Determines the minutes value of a datetime.  \n",
              "31                                                     Negates a boolean value.  \n",
              "32                  Returns the second tuple value in a list of LatLong tuples.  \n",
              "33                                             Calculates the cumulative count.  \n",
              "34                                     Determines the hour value of a datetime.  \n",
              "35                                       Element-wise subtraction of two lists.  \n",
              "36                   Compute the difference between the value in a list and the  \n",
              "37           Determines the number of words in a string by counting the spaces.  \n",
              "38                                          Element-wise division of two lists.  \n",
              "39                                          Element-wise addition of two lists.  \n",
              "40                                    Determines the month value of a datetime.  \n",
              "41                              Determines the day of the week from a datetime.  \n",
              "42                               Multiply each element in the list by a scalar.  \n",
              "43                                     Computes the absolute value of a number.  \n",
              "44              Determines if values in one list are not equal to another list.  \n",
              "45                   Return the modulo of a scalar by each element in the list.  \n",
              "46                         Subtract each value in the list from a given scalar.  \n",
              "47                  Determines if values in one list are equal to another list.  \n",
              "48                                     Determines if a date falls on a weekend.  \n",
              "49                                            Element-wise modulo of two lists.  \n",
              "50               Calculates the age in years as a floating point number given a  \n",
              "51     Determines if values in one list are less than or equal to another list.  \n",
              "52                           Determines if values are less than a given scalar.  \n",
              "53                        Determines if values are greater than a given scalar.  \n",
              "54                                           Calculates the cumulative maximum.  \n",
              "55                             Determines the week of the year from a datetime.  \n",
              "56            Determines if values are greater than or equal to a given scalar.  \n",
              "57                     Determines the percentile rank for each value in a list.  \n",
              "58            Calculates the approximate haversine distance between two LatLong  \n",
              "59                                              Calculates the cumulative mean.  \n",
              "60                                  Determines the seconds value of a datetime.  \n",
              "61                                                     Negates a numeric value.  \n",
              "62                 Calculates time from a value to a specified cutoff datetime.  \n",
              "63                                               Calculates the cumulative sum.  \n",
              "64                             Determines the day of the month from a datetime.  \n",
              "65                                      Add a scalar to each value in the list.  \n",
              "66                    Determines whether a value is present in a provided list.  \n",
              "67                             Calculates the number of characters in a string.  \n",
              "68                                     Determines the year value of a datetime.  \n",
              "69                  Element-wise multiplication of two lists of boolean values.  \n",
              "70                         Compute the time since the previous entry in a list.  \n",
              "71              Determines if values in a list are not equal to a given scalar.  \n",
              "72                                       Element-wise logical AND of two lists.  \n",
              "73                                               Determines if a value is null.  \n",
              "74                  Determines if values in a list are equal to a given scalar.  \n",
              "75                                    Element-wise multiplication of two lists.  \n",
              "76                   Return the modulo of each element in the list by a scalar.  \n",
              "77                                        Element-wise logical OR of two lists.  \n",
              "78               Determines if values are less than or equal to a given scalar.  "
            ]
          },
          "metadata": {
            "tags": []
          },
          "execution_count": 22
        }
      ]
    },
    {
      "cell_type": "code",
      "metadata": {
        "id": "ZkGgoXzar44z",
        "colab_type": "code",
        "colab": {}
      },
      "source": [
        "features, feature_names = ft.dfs(entityset = es, \n",
        "                                 target_entity = 'combine', \n",
        "#                                  trans_primitives=['subtract_numeric', 'add_numeric', 'divide_numeric', 'multiply_numeric'],\n",
        "                                 max_depth = 2)"
      ],
      "execution_count": null,
      "outputs": []
    },
    {
      "cell_type": "code",
      "metadata": {
        "id": "Bba1URkrr449",
        "colab_type": "code",
        "colab": {},
        "outputId": "726fb7bc-13eb-4ab5-da75-058aa589a43d"
      },
      "source": [
        "feature_names"
      ],
      "execution_count": null,
      "outputs": [
        {
          "output_type": "execute_result",
          "data": {
            "text/plain": [
              "[<Feature: Age>,\n",
              " <Feature: Fare>,\n",
              " <Feature: Parch>,\n",
              " <Feature: Pclass>,\n",
              " <Feature: SibSp>,\n",
              " <Feature: Embarked>,\n",
              " <Feature: Sex>,\n",
              " <Feature: Title>,\n",
              " <Feature: Embarked.SUM(combine.Fare)>,\n",
              " <Feature: Embarked.SUM(combine.Age)>,\n",
              " <Feature: Embarked.STD(combine.Fare)>,\n",
              " <Feature: Embarked.STD(combine.Age)>,\n",
              " <Feature: Embarked.MAX(combine.Fare)>,\n",
              " <Feature: Embarked.MAX(combine.Age)>,\n",
              " <Feature: Embarked.SKEW(combine.Fare)>,\n",
              " <Feature: Embarked.SKEW(combine.Age)>,\n",
              " <Feature: Embarked.MIN(combine.Fare)>,\n",
              " <Feature: Embarked.MIN(combine.Age)>,\n",
              " <Feature: Embarked.MEAN(combine.Fare)>,\n",
              " <Feature: Embarked.MEAN(combine.Age)>,\n",
              " <Feature: Embarked.COUNT(combine)>,\n",
              " <Feature: Embarked.NUM_UNIQUE(combine.Pclass)>,\n",
              " <Feature: Embarked.NUM_UNIQUE(combine.Title)>,\n",
              " <Feature: Embarked.NUM_UNIQUE(combine.Parch)>,\n",
              " <Feature: Embarked.NUM_UNIQUE(combine.SibSp)>,\n",
              " <Feature: Embarked.NUM_UNIQUE(combine.Sex)>,\n",
              " <Feature: Embarked.MODE(combine.Pclass)>,\n",
              " <Feature: Embarked.MODE(combine.Title)>,\n",
              " <Feature: Embarked.MODE(combine.Parch)>,\n",
              " <Feature: Embarked.MODE(combine.SibSp)>,\n",
              " <Feature: Embarked.MODE(combine.Sex)>,\n",
              " <Feature: Sex.SUM(combine.Fare)>,\n",
              " <Feature: Sex.SUM(combine.Age)>,\n",
              " <Feature: Sex.STD(combine.Fare)>,\n",
              " <Feature: Sex.STD(combine.Age)>,\n",
              " <Feature: Sex.MAX(combine.Fare)>,\n",
              " <Feature: Sex.MAX(combine.Age)>,\n",
              " <Feature: Sex.SKEW(combine.Fare)>,\n",
              " <Feature: Sex.SKEW(combine.Age)>,\n",
              " <Feature: Sex.MIN(combine.Fare)>,\n",
              " <Feature: Sex.MIN(combine.Age)>,\n",
              " <Feature: Sex.MEAN(combine.Fare)>,\n",
              " <Feature: Sex.MEAN(combine.Age)>,\n",
              " <Feature: Sex.COUNT(combine)>,\n",
              " <Feature: Sex.NUM_UNIQUE(combine.Pclass)>,\n",
              " <Feature: Sex.NUM_UNIQUE(combine.Title)>,\n",
              " <Feature: Sex.NUM_UNIQUE(combine.Parch)>,\n",
              " <Feature: Sex.NUM_UNIQUE(combine.SibSp)>,\n",
              " <Feature: Sex.NUM_UNIQUE(combine.Embarked)>,\n",
              " <Feature: Sex.MODE(combine.Pclass)>,\n",
              " <Feature: Sex.MODE(combine.Title)>,\n",
              " <Feature: Sex.MODE(combine.Parch)>,\n",
              " <Feature: Sex.MODE(combine.SibSp)>,\n",
              " <Feature: Sex.MODE(combine.Embarked)>,\n",
              " <Feature: Title.SUM(combine.Fare)>,\n",
              " <Feature: Title.SUM(combine.Age)>,\n",
              " <Feature: Title.STD(combine.Fare)>,\n",
              " <Feature: Title.STD(combine.Age)>,\n",
              " <Feature: Title.MAX(combine.Fare)>,\n",
              " <Feature: Title.MAX(combine.Age)>,\n",
              " <Feature: Title.SKEW(combine.Fare)>,\n",
              " <Feature: Title.SKEW(combine.Age)>,\n",
              " <Feature: Title.MIN(combine.Fare)>,\n",
              " <Feature: Title.MIN(combine.Age)>,\n",
              " <Feature: Title.MEAN(combine.Fare)>,\n",
              " <Feature: Title.MEAN(combine.Age)>,\n",
              " <Feature: Title.COUNT(combine)>,\n",
              " <Feature: Title.NUM_UNIQUE(combine.Pclass)>,\n",
              " <Feature: Title.NUM_UNIQUE(combine.Parch)>,\n",
              " <Feature: Title.NUM_UNIQUE(combine.SibSp)>,\n",
              " <Feature: Title.NUM_UNIQUE(combine.Embarked)>,\n",
              " <Feature: Title.NUM_UNIQUE(combine.Sex)>,\n",
              " <Feature: Title.MODE(combine.Pclass)>,\n",
              " <Feature: Title.MODE(combine.Parch)>,\n",
              " <Feature: Title.MODE(combine.SibSp)>,\n",
              " <Feature: Title.MODE(combine.Embarked)>,\n",
              " <Feature: Title.MODE(combine.Sex)>,\n",
              " <Feature: Pclass.SUM(combine.Fare)>,\n",
              " <Feature: Pclass.SUM(combine.Age)>,\n",
              " <Feature: Pclass.STD(combine.Fare)>,\n",
              " <Feature: Pclass.STD(combine.Age)>,\n",
              " <Feature: Pclass.MAX(combine.Fare)>,\n",
              " <Feature: Pclass.MAX(combine.Age)>,\n",
              " <Feature: Pclass.SKEW(combine.Fare)>,\n",
              " <Feature: Pclass.SKEW(combine.Age)>,\n",
              " <Feature: Pclass.MIN(combine.Fare)>,\n",
              " <Feature: Pclass.MIN(combine.Age)>,\n",
              " <Feature: Pclass.MEAN(combine.Fare)>,\n",
              " <Feature: Pclass.MEAN(combine.Age)>,\n",
              " <Feature: Pclass.COUNT(combine)>,\n",
              " <Feature: Pclass.NUM_UNIQUE(combine.Title)>,\n",
              " <Feature: Pclass.NUM_UNIQUE(combine.Parch)>,\n",
              " <Feature: Pclass.NUM_UNIQUE(combine.SibSp)>,\n",
              " <Feature: Pclass.NUM_UNIQUE(combine.Embarked)>,\n",
              " <Feature: Pclass.NUM_UNIQUE(combine.Sex)>,\n",
              " <Feature: Pclass.MODE(combine.Title)>,\n",
              " <Feature: Pclass.MODE(combine.Parch)>,\n",
              " <Feature: Pclass.MODE(combine.SibSp)>,\n",
              " <Feature: Pclass.MODE(combine.Embarked)>,\n",
              " <Feature: Pclass.MODE(combine.Sex)>,\n",
              " <Feature: Parch.SUM(combine.Fare)>,\n",
              " <Feature: Parch.SUM(combine.Age)>,\n",
              " <Feature: Parch.STD(combine.Fare)>,\n",
              " <Feature: Parch.STD(combine.Age)>,\n",
              " <Feature: Parch.MAX(combine.Fare)>,\n",
              " <Feature: Parch.MAX(combine.Age)>,\n",
              " <Feature: Parch.SKEW(combine.Fare)>,\n",
              " <Feature: Parch.SKEW(combine.Age)>,\n",
              " <Feature: Parch.MIN(combine.Fare)>,\n",
              " <Feature: Parch.MIN(combine.Age)>,\n",
              " <Feature: Parch.MEAN(combine.Fare)>,\n",
              " <Feature: Parch.MEAN(combine.Age)>,\n",
              " <Feature: Parch.COUNT(combine)>,\n",
              " <Feature: Parch.NUM_UNIQUE(combine.Pclass)>,\n",
              " <Feature: Parch.NUM_UNIQUE(combine.Title)>,\n",
              " <Feature: Parch.NUM_UNIQUE(combine.SibSp)>,\n",
              " <Feature: Parch.NUM_UNIQUE(combine.Embarked)>,\n",
              " <Feature: Parch.NUM_UNIQUE(combine.Sex)>,\n",
              " <Feature: Parch.MODE(combine.Pclass)>,\n",
              " <Feature: Parch.MODE(combine.Title)>,\n",
              " <Feature: Parch.MODE(combine.SibSp)>,\n",
              " <Feature: Parch.MODE(combine.Embarked)>,\n",
              " <Feature: Parch.MODE(combine.Sex)>,\n",
              " <Feature: SibSp.SUM(combine.Fare)>,\n",
              " <Feature: SibSp.SUM(combine.Age)>,\n",
              " <Feature: SibSp.STD(combine.Fare)>,\n",
              " <Feature: SibSp.STD(combine.Age)>,\n",
              " <Feature: SibSp.MAX(combine.Fare)>,\n",
              " <Feature: SibSp.MAX(combine.Age)>,\n",
              " <Feature: SibSp.SKEW(combine.Fare)>,\n",
              " <Feature: SibSp.SKEW(combine.Age)>,\n",
              " <Feature: SibSp.MIN(combine.Fare)>,\n",
              " <Feature: SibSp.MIN(combine.Age)>,\n",
              " <Feature: SibSp.MEAN(combine.Fare)>,\n",
              " <Feature: SibSp.MEAN(combine.Age)>,\n",
              " <Feature: SibSp.COUNT(combine)>,\n",
              " <Feature: SibSp.NUM_UNIQUE(combine.Pclass)>,\n",
              " <Feature: SibSp.NUM_UNIQUE(combine.Title)>,\n",
              " <Feature: SibSp.NUM_UNIQUE(combine.Parch)>,\n",
              " <Feature: SibSp.NUM_UNIQUE(combine.Embarked)>,\n",
              " <Feature: SibSp.NUM_UNIQUE(combine.Sex)>,\n",
              " <Feature: SibSp.MODE(combine.Pclass)>,\n",
              " <Feature: SibSp.MODE(combine.Title)>,\n",
              " <Feature: SibSp.MODE(combine.Parch)>,\n",
              " <Feature: SibSp.MODE(combine.Embarked)>,\n",
              " <Feature: SibSp.MODE(combine.Sex)>]"
            ]
          },
          "metadata": {
            "tags": []
          },
          "execution_count": 39
        }
      ]
    },
    {
      "cell_type": "code",
      "metadata": {
        "id": "RoPsG4JZr45T",
        "colab_type": "code",
        "colab": {},
        "outputId": "0cd88ea0-65f5-4104-fff1-36f9897c0cce"
      },
      "source": [
        "len(feature_names)"
      ],
      "execution_count": null,
      "outputs": [
        {
          "output_type": "execute_result",
          "data": {
            "text/plain": [
              "146"
            ]
          },
          "metadata": {
            "tags": []
          },
          "execution_count": 40
        }
      ]
    },
    {
      "cell_type": "code",
      "metadata": {
        "id": "E_Ul_GyNr45k",
        "colab_type": "code",
        "colab": {},
        "outputId": "868ae1b5-1fd4-48c7-be3a-8f1775649648"
      },
      "source": [
        "features.isnull().sum()"
      ],
      "execution_count": null,
      "outputs": [
        {
          "output_type": "execute_result",
          "data": {
            "text/plain": [
              "Age                                    0\n",
              "Fare                                   0\n",
              "Parch                                  0\n",
              "Pclass                                 0\n",
              "SibSp                                  0\n",
              "Embarked                               0\n",
              "Sex                                    0\n",
              "Title                                  0\n",
              "Embarked.SUM(combine.Fare)             0\n",
              "Embarked.SUM(combine.Age)              0\n",
              "Embarked.STD(combine.Fare)             0\n",
              "Embarked.STD(combine.Age)              0\n",
              "Embarked.MAX(combine.Fare)             0\n",
              "Embarked.MAX(combine.Age)              0\n",
              "Embarked.SKEW(combine.Fare)            0\n",
              "Embarked.SKEW(combine.Age)             0\n",
              "Embarked.MIN(combine.Fare)             0\n",
              "Embarked.MIN(combine.Age)              0\n",
              "Embarked.MEAN(combine.Fare)            0\n",
              "Embarked.MEAN(combine.Age)             0\n",
              "Embarked.COUNT(combine)                0\n",
              "Embarked.NUM_UNIQUE(combine.Pclass)    0\n",
              "Embarked.NUM_UNIQUE(combine.Title)     0\n",
              "Embarked.NUM_UNIQUE(combine.Parch)     0\n",
              "Embarked.NUM_UNIQUE(combine.SibSp)     0\n",
              "Embarked.NUM_UNIQUE(combine.Sex)       0\n",
              "Embarked.MODE(combine.Pclass)          0\n",
              "Embarked.MODE(combine.Title)           0\n",
              "Embarked.MODE(combine.Parch)           0\n",
              "Embarked.MODE(combine.SibSp)           0\n",
              "                                      ..\n",
              "Parch.NUM_UNIQUE(combine.Embarked)     0\n",
              "Parch.NUM_UNIQUE(combine.Sex)          0\n",
              "Parch.MODE(combine.Pclass)             0\n",
              "Parch.MODE(combine.Title)              0\n",
              "Parch.MODE(combine.SibSp)              0\n",
              "Parch.MODE(combine.Embarked)           0\n",
              "Parch.MODE(combine.Sex)                0\n",
              "SibSp.SUM(combine.Fare)                0\n",
              "SibSp.SUM(combine.Age)                 0\n",
              "SibSp.STD(combine.Fare)                0\n",
              "SibSp.STD(combine.Age)                 0\n",
              "SibSp.MAX(combine.Fare)                0\n",
              "SibSp.MAX(combine.Age)                 0\n",
              "SibSp.SKEW(combine.Fare)               0\n",
              "SibSp.SKEW(combine.Age)                0\n",
              "SibSp.MIN(combine.Fare)                0\n",
              "SibSp.MIN(combine.Age)                 0\n",
              "SibSp.MEAN(combine.Fare)               0\n",
              "SibSp.MEAN(combine.Age)                0\n",
              "SibSp.COUNT(combine)                   0\n",
              "SibSp.NUM_UNIQUE(combine.Pclass)       0\n",
              "SibSp.NUM_UNIQUE(combine.Title)        0\n",
              "SibSp.NUM_UNIQUE(combine.Parch)        0\n",
              "SibSp.NUM_UNIQUE(combine.Embarked)     0\n",
              "SibSp.NUM_UNIQUE(combine.Sex)          0\n",
              "SibSp.MODE(combine.Pclass)             0\n",
              "SibSp.MODE(combine.Title)              0\n",
              "SibSp.MODE(combine.Parch)              0\n",
              "SibSp.MODE(combine.Embarked)           0\n",
              "SibSp.MODE(combine.Sex)                0\n",
              "Length: 146, dtype: int64"
            ]
          },
          "metadata": {
            "tags": []
          },
          "execution_count": 41
        }
      ]
    },
    {
      "cell_type": "code",
      "metadata": {
        "id": "GREhpgO_r45x",
        "colab_type": "code",
        "colab": {}
      },
      "source": [
        "class RemoveLowInfo(BaseEstimator, TransformerMixin):\n",
        "    def __init__(self, threshold):\n",
        "        self.threshold = threshold\n",
        "\n",
        "    def fit(self, X, y=None):\n",
        "        return self\n",
        "\n",
        "    def transform(self, X):\n",
        "        df = X.copy()\n",
        "        keep = [column for column in df.columns if df[column].value_counts(normalize=True).reset_index(drop=True)[0]<self.threshold]\n",
        "        return df[keep]"
      ],
      "execution_count": null,
      "outputs": []
    },
    {
      "cell_type": "code",
      "metadata": {
        "id": "xshXSQ5Nr46E",
        "colab_type": "code",
        "colab": {}
      },
      "source": [
        "from sklearn.preprocessing import Imputer, OneHotEncoder, StandardScaler, FunctionTransformer"
      ],
      "execution_count": null,
      "outputs": []
    },
    {
      "cell_type": "code",
      "metadata": {
        "id": "wQhYZAj2r46O",
        "colab_type": "code",
        "colab": {}
      },
      "source": [
        "impute_median = FunctionTransformer(lambda x: x.fillna(x.median()), validate=False)"
      ],
      "execution_count": null,
      "outputs": []
    },
    {
      "cell_type": "code",
      "metadata": {
        "id": "TSoU2DWsr46h",
        "colab_type": "code",
        "colab": {}
      },
      "source": [
        "normalize = FunctionTransformer(lambda x: (x-x.mean())/x.std(), validate=False)"
      ],
      "execution_count": null,
      "outputs": []
    },
    {
      "cell_type": "code",
      "metadata": {
        "id": "a9j5EUOrr46s",
        "colab_type": "code",
        "colab": {}
      },
      "source": [
        "from sklearn.decomposition import PCA"
      ],
      "execution_count": null,
      "outputs": []
    },
    {
      "cell_type": "code",
      "metadata": {
        "id": "RsYdTl23r47G",
        "colab_type": "code",
        "colab": {}
      },
      "source": [
        "transformer = Pipeline([\n",
        "    (\"imputer\", impute_median),\n",
        "    ('removelowinfo',RemoveLowInfo(threshold=.95)),\n",
        "    ('scaler', normalize),\n",
        "])"
      ],
      "execution_count": null,
      "outputs": []
    },
    {
      "cell_type": "code",
      "metadata": {
        "id": "Cmv4GyMWr47V",
        "colab_type": "code",
        "colab": {}
      },
      "source": [
        "clean_features = transformer.fit_transform(features)"
      ],
      "execution_count": null,
      "outputs": []
    },
    {
      "cell_type": "code",
      "metadata": {
        "id": "wlWgyumYr47e",
        "colab_type": "code",
        "colab": {}
      },
      "source": [
        "from sklearn.linear_model  import LogisticRegression, SGDClassifier\n",
        "from sklearn.ensemble import RandomForestClassifier, GradientBoostingClassifier, AdaBoostClassifier, BaggingClassifier, VotingClassifier\n",
        "from sklearn.neural_network import MLPClassifier\n",
        "from sklearn.svm import SVC, LinearSVC\n",
        "from sklearn.naive_bayes import GaussianNB\n",
        "from sklearn.neighbors import KNeighborsClassifier\n",
        "from sklearn.tree import DecisionTreeClassifier\n",
        "from sklearn.decomposition import PCA\n",
        "import xgboost as xgb\n",
        "import lightgbm as lgb\n",
        "# import catboost as cgb"
      ],
      "execution_count": null,
      "outputs": []
    },
    {
      "cell_type": "code",
      "metadata": {
        "id": "3W4ss8fcr47u",
        "colab_type": "code",
        "colab": {},
        "outputId": "8ba99a0b-9f0d-44aa-8773-0c2553055061"
      },
      "source": [
        "! pip install lightgbm"
      ],
      "execution_count": null,
      "outputs": [
        {
          "output_type": "stream",
          "text": [
            "Requirement already satisfied: lightgbm in /opt/conda/envs/Python36/lib/python3.6/site-packages (2.3.1)\r\n",
            "Requirement already satisfied: scipy in /opt/conda/envs/Python36/lib/python3.6/site-packages (from lightgbm) (1.2.0)\r\n",
            "Requirement already satisfied: numpy in /opt/conda/envs/Python36/lib/python3.6/site-packages (from lightgbm) (1.19.1)\r\n",
            "Requirement already satisfied: scikit-learn in /opt/conda/envs/Python36/lib/python3.6/site-packages (from lightgbm) (0.20.3)\r\n"
          ],
          "name": "stdout"
        }
      ]
    },
    {
      "cell_type": "code",
      "metadata": {
        "id": "I7YRU8xzr476",
        "colab_type": "code",
        "colab": {},
        "outputId": "5fd2aab2-b1e3-44da-98f9-3b68e6b55d19"
      },
      "source": [
        "methods = [\n",
        "           ('logistic', LogisticRegression(solver='lbfgs')), \n",
        "#            ('sgd', SGDClassifier()), \n",
        "           ('tree', DecisionTreeClassifier()),\n",
        "           ('bag', BaggingClassifier()),\n",
        "           ('xgb', xgb.XGBClassifier(max_depth=3)),\n",
        "           ('lgb', lgb.LGBMClassifier(max_depth=3)),\n",
        "#            ('cgb', cgb.CatBoostClassifier(max_depth=3,silent=True)),\n",
        "           ('ada', AdaBoostClassifier()),\n",
        "           ('gbm', GradientBoostingClassifier()),\n",
        "           ('rf', RandomForestClassifier(n_estimators=100)),\n",
        "#            ('svc', LinearSVC()),\n",
        "#            ('rbf', SVC()),\n",
        "           ('nb', Pipeline([('pca', PCA()), ('gnb', GaussianNB())])),\n",
        "           ('nn', MLPClassifier()),\n",
        "           ('knn', KNeighborsClassifier()),\n",
        "          ]\n",
        "\n",
        "\n",
        "ensemble = VotingClassifier(\n",
        "        methods,\n",
        "        voting='soft', \n",
        "#         weights=[1,1,1,1,2,2,1,1],\n",
        "#         flatten_transform=True,\n",
        ")\n",
        "\n",
        "clf = Pipeline([\n",
        "#          ('transformer', transformer),\n",
        "     ('ensemble', ensemble),\n",
        "])\n",
        "\n",
        "clf.fit(clean_features.iloc[:train_df.shape[0],:], target)"
      ],
      "execution_count": null,
      "outputs": [
        {
          "output_type": "stream",
          "text": [
            "/opt/conda/envs/Python36/lib/python3.6/site-packages/sklearn/preprocessing/label.py:219: DataConversionWarning: A column-vector y was passed when a 1d array was expected. Please change the shape of y to (n_samples, ), for example using ravel().\n",
            "  y = column_or_1d(y, warn=True)\n",
            "/opt/conda/envs/Python36/lib/python3.6/site-packages/sklearn/preprocessing/label.py:252: DataConversionWarning: A column-vector y was passed when a 1d array was expected. Please change the shape of y to (n_samples, ), for example using ravel().\n",
            "  y = column_or_1d(y, warn=True)\n",
            "/opt/conda/envs/Python36/lib/python3.6/site-packages/sklearn/neural_network/multilayer_perceptron.py:562: ConvergenceWarning: Stochastic Optimizer: Maximum iterations (200) reached and the optimization hasn't converged yet.\n",
            "  % self.max_iter, ConvergenceWarning)\n"
          ],
          "name": "stderr"
        },
        {
          "output_type": "execute_result",
          "data": {
            "text/plain": [
              "Pipeline(memory=None,\n",
              "     steps=[('ensemble', VotingClassifier(estimators=[('logistic', LogisticRegression(C=1.0, class_weight=None, dual=False, fit_intercept=True,\n",
              "          intercept_scaling=1, max_iter=100, multi_class='warn',\n",
              "          n_jobs=None, penalty='l2', random_state=None, solver='lbfgs',\n",
              "          tol=0.0001, ve...  weights='uniform'))],\n",
              "         flatten_transform=None, n_jobs=None, voting='soft', weights=None))])"
            ]
          },
          "metadata": {
            "tags": []
          },
          "execution_count": 84
        }
      ]
    },
    {
      "cell_type": "code",
      "metadata": {
        "id": "uvbhTItar48D",
        "colab_type": "code",
        "colab": {}
      },
      "source": [
        "submission['Survived'] = pd.DataFrame(clf.predict(clean_features.iloc[train_df.shape[0]:,:]))"
      ],
      "execution_count": null,
      "outputs": []
    },
    {
      "cell_type": "code",
      "metadata": {
        "id": "oO2O93hNr48W",
        "colab_type": "code",
        "colab": {},
        "outputId": "73c61ad5-0e2a-45fa-eb4e-da9d84be0890"
      },
      "source": [
        "print(submission.dtypes)"
      ],
      "execution_count": null,
      "outputs": [
        {
          "output_type": "stream",
          "text": [
            "PassengerId    int64\n",
            "Survived       int64\n",
            "dtype: object\n"
          ],
          "name": "stdout"
        }
      ]
    },
    {
      "cell_type": "code",
      "metadata": {
        "id": "Jh-cEyMir48f",
        "colab_type": "code",
        "colab": {}
      },
      "source": [
        "# project.save_data(file_name = \"submission2.csv\",data = submission.to_csv(index=False))"
      ],
      "execution_count": null,
      "outputs": []
    },
    {
      "cell_type": "code",
      "metadata": {
        "id": "6OX6DJWAr48w",
        "colab_type": "code",
        "colab": {}
      },
      "source": [
        ""
      ],
      "execution_count": null,
      "outputs": []
    }
  ]
}